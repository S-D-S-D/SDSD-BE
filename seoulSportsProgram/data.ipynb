{
 "cells": [
  {
   "cell_type": "code",
   "execution_count": 290,
   "metadata": {},
   "outputs": [
    {
     "name": "stdout",
     "output_type": "stream",
     "text": [
      "Writing src/connectAPI.js\n"
     ]
    }
   ],
   "source": [
    "%%writefile src/connectAPI.js\n",
    "const fetch = require('node-fetch')\n",
    "\n",
    "const KEY = \"697456674f6c6a6d313034674d6f6e54\"\n",
    "const TYPE = \"json\"\n",
    "const SERVICE = \"ListProgramByPublicSportsFacilitiesService\"\n",
    "let START_INDEX = 1\n",
    "let END_INDEX = 2\n",
    "let SUBJECT_NAME\n",
    "let DATA\n",
    "const url =`http://openapi.seoul.go.kr:8088/${KEY}/${TYPE}/${SERVICE}/${START_INDEX}/${END_INDEX}/`\n",
    "\n",
    "//console.log(url)\n",
    "\n",
    "fetch(url)// URL에 대한 GET 요청을 만듬\n",
    "  .then(response => {\n",
    "    if (response.ok) {\n",
    "      return response.json();\n",
    "    } else {\n",
    "      throw new Error(`Failed to fetch JSON data from the URL: ${response.status}`);\n",
    "    }\n",
    "  })\n",
    "  .then(jsonData => {\n",
    "    DATA = jsonData.ListProgramByPublicSportsFacilitiesService\n",
    "  })\n",
    "  .catch(error => {\n",
    "    console.error(\"Error fetching JSON data:\", error);\n",
    "  });\n",
    "\n",
    "console.log(DATA)"
   ]
  },
  {
   "cell_type": "code",
   "execution_count": 291,
   "metadata": {},
   "outputs": [
    {
     "name": "stdout",
     "output_type": "stream",
     "text": [
      "Writing src/showAPI.js\n"
     ]
    }
   ],
   "source": [
    "%%writefile src/showAPI.js\n",
    "const fetch = require('node-fetch')\n",
    "\n",
    "const KEY = \"697456674f6c6a6d313034674d6f6e54\"\n",
    "const TYPE = \"json\"\n",
    "const SERVICE = \"ListProgramByPublicSportsFacilitiesService\"\n",
    "let START_INDEX = 1\n",
    "let END_INDEX = 1000\n",
    "let SUBJECT_NAME\n",
    "\n",
    "async function fetchData(START, END) {\n",
    "  try {\n",
    "    const url =`http://openapi.seoul.go.kr:8088/${KEY}/${TYPE}/${SERVICE}/${START}/${END}/`\n",
    "    const response = await fetch(url);// URL에 대한 GET 요청을 만듬\n",
    "    if (!response.ok) {\n",
    "      throw new Error(`Failed to fetch JSON data from the URL: ${response.status}`);// api 값을 받아왔는지 확인\n",
    "    }\n",
    "    const jsonData = await response.json();// json으로 값을 반환\n",
    "    DATA = jsonData.ListProgramByPublicSportsFacilitiesService;\n",
    "    \n",
    "    let subjectCount = {}\n",
    "\n",
    "    for(let i=0; i<DATA.row.length; i++){// 데이터에 따라 값을 json에 넣어줌\n",
    "      const subjectData = DATA.row[i].SUBJECT_NAME// row별 데이터 접근\n",
    "      if(subjectData in subjectCount ){\n",
    "        subjectCount[subjectData] += 1// 데이터가 있으면 value 증가\n",
    "      }else{\n",
    "          subjectCount[subjectData] = 1// 데이터가 없으면 새롭게 추가\n",
    "      }\n",
    "    }\n",
    "    console.log(subjectCount)\n",
    "  } catch (error) {\n",
    "    console.error(\"Error fetching JSON data:\", error);\n",
    "  }\n",
    "}\n",
    "async function fetchAllData() {\n",
    "  for(let j = 0; j < 14; j++) {\n",
    "    await fetchData((1 + 1000 * j), (j + 1) * 1000);\n",
    "  }\n",
    "}\n",
    "\n",
    "fetchAllData();"
   ]
  },
  {
   "cell_type": "code",
   "execution_count": 292,
   "metadata": {},
   "outputs": [
    {
     "name": "stdout",
     "output_type": "stream",
     "text": [
      "Writing src/mkdirData.js\n"
     ]
    }
   ],
   "source": [
    "%%writefile src/mkdirData.js\n",
    "const fetch = require('node-fetch');\n",
    "const fs = require('fs');\n",
    "\n",
    "const KEY = \"697456674f6c6a6d313034674d6f6e54\";\n",
    "const TYPE = \"json\";\n",
    "const SERVICE = \"ListProgramByPublicSportsFacilitiesService\";\n",
    "let START_INDEX = 1;\n",
    "let END_INDEX = 1000;\n",
    "let SUBJECT_NAME;\n",
    "\n",
    "async function fetchData(START, END) {\n",
    "  try {\n",
    "    const url =`http://openapi.seoul.go.kr:8088/${KEY}/${TYPE}/${SERVICE}/${START}/${END}/`;\n",
    "    const response = await fetch(url);\n",
    "    if (!response.ok) {\n",
    "      throw new Error(`Failed to fetch JSON data from the URL: ${response.status}`);\n",
    "    }\n",
    "    const jsonData = await response.json();\n",
    "    const DATA = jsonData.ListProgramByPublicSportsFacilitiesService;\n",
    "    \n",
    "    let subjectCount = {};\n",
    "\n",
    "    for(let i = 0; i < DATA.row.length; i++){\n",
    "      const subjectData = DATA.row[i].SUBJECT_NAME;\n",
    "      if(subjectData in subjectCount ){\n",
    "        subjectCount[subjectData] += 1;\n",
    "      } else {\n",
    "        subjectCount[subjectData] = 1;\n",
    "      }\n",
    "    }\n",
    "    \n",
    "    return subjectCount;\n",
    "  } catch (error) {\n",
    "    console.error(\"Error fetching JSON data:\", error);\n",
    "    return {};\n",
    "  }\n",
    "}\n",
    "\n",
    "async function fetchAllData() {\n",
    "  let allData = {};\n",
    "  //for(let j = 0; j < 14; j++) {\n",
    "  //  const data = await fetchData((1 + 1000 * j), (j + 1) * 1000);\n",
    "  //  allData = { ...allData, ...data };\n",
    "  //}\n",
    "  const data = await fetchData(12001, 13000);\n",
    "  allData = { ...allData, ...data };\n",
    "  // 파일에 데이터 쓰기\n",
    "  fs.writeFileSync('output13.json', JSON.stringify(allData, null, 2));\n",
    "}\n",
    "\n",
    "fetchAllData();\n"
   ]
  },
  {
   "cell_type": "code",
   "execution_count": 272,
   "metadata": {},
   "outputs": [
    {
     "name": "stderr",
     "output_type": "stream",
     "text": [
      "(node:5316) [DEP0040] DeprecationWarning: The `punycode` module is deprecated. Please use a userland alternative instead.\n",
      "(Use `node --trace-deprecation ...` to show where the warning was created)\n"
     ]
    }
   ],
   "source": [
    "! node src/urlCode.js "
   ]
  },
  {
   "cell_type": "code",
   "execution_count": 293,
   "metadata": {},
   "outputs": [
    {
     "name": "stdout",
     "output_type": "stream",
     "text": [
      "Writing src/combineData.js\n"
     ]
    }
   ],
   "source": [
    "%%writefile src/combineData.js\n",
    "const fs = require('fs');\n",
    "\n",
    "// 모든 JSON 파일을 읽어와서 데이터를 통합할 변수 초기화\n",
    "let combinedData = {};\n",
    "\n",
    "// JSON 파일을 읽어와서 데이터를 통합\n",
    "for (let i = 1; i <= 14; i++) {\n",
    "  // 파일 이름 설정 (예: input1.json, input2.json, ...)\n",
    "  const fileName = `data/output${i}.json`;\n",
    "\n",
    "  // 파일에서 JSON 데이터 읽기\n",
    "  const jsonData = fs.readFileSync(fileName, 'utf8');\n",
    "\n",
    "  // JSON 데이터 파싱\n",
    "  const data = JSON.parse(jsonData);\n",
    "\n",
    "  // 데이터 통합\n",
    "  for (const key in data) {\n",
    "    if (combinedData.hasOwnProperty(key)) {\n",
    "      combinedData[key] += data[key];\n",
    "    } else {\n",
    "      combinedData[key] = data[key];\n",
    "    }\n",
    "  }\n",
    "}\n",
    "\n",
    "// 통합된 데이터를 파일에 쓰기\n",
    "fs.writeFileSync('data/combinedOutput.json', JSON.stringify(combinedData, null, 2));\n",
    "\n",
    "console.log(\"Data has been combined and saved to combinedOutput.json\");"
   ]
  },
  {
   "cell_type": "code",
   "execution_count": 1,
   "metadata": {},
   "outputs": [
    {
     "name": "stdout",
     "output_type": "stream",
     "text": [
      "Data has been combined and saved to combinedOutput.json\n"
     ]
    }
   ],
   "source": [
    "! node src/combineData.js "
   ]
  }
 ],
 "metadata": {
  "kernelspec": {
   "display_name": "Python 3",
   "language": "python",
   "name": "python3"
  },
  "language_info": {
   "codemirror_mode": {
    "name": "ipython",
    "version": 3
   },
   "file_extension": ".py",
   "mimetype": "text/x-python",
   "name": "python",
   "nbconvert_exporter": "python",
   "pygments_lexer": "ipython3",
   "version": "3.11.5"
  }
 },
 "nbformat": 4,
 "nbformat_minor": 2
}
